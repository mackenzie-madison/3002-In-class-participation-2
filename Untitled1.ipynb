{
 "cells": [
  {
   "cell_type": "markdown",
   "id": "cfa3cbda-fb85-4e1a-a1d7-cdfe9dec7133",
   "metadata": {},
   "source": [
    "# In class participation #2"
   ]
  },
  {
   "cell_type": "markdown",
   "id": "7701be80-2ca4-4e02-ac8b-27b1ddb68865",
   "metadata": {},
   "source": [
    "*GROUP 4 NAMES*: **CAMPBELL, POOJA, MANI, MACKENZIE, VIBHA**"
   ]
  },
  {
   "cell_type": "markdown",
   "id": "fdaf43a9-c691-4fb0-8286-552a99b2d0a1",
   "metadata": {},
   "source": [
    "## Types of Codes ##"
   ]
  },
  {
   "cell_type": "markdown",
   "id": "fbbd718b-a4b3-4557-932d-07b82045a259",
   "metadata": {},
   "source": [
    "1. Temporal = information is encoded"
   ]
  }
 ],
 "metadata": {
  "kernelspec": {
   "display_name": "Python 3 (ipykernel)",
   "language": "python",
   "name": "python3"
  },
  "language_info": {
   "codemirror_mode": {
    "name": "ipython",
    "version": 3
   },
   "file_extension": ".py",
   "mimetype": "text/x-python",
   "name": "python",
   "nbconvert_exporter": "python",
   "pygments_lexer": "ipython3",
   "version": "3.12.1"
  }
 },
 "nbformat": 4,
 "nbformat_minor": 5
}
